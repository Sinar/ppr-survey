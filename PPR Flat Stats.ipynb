{
 "cells": [
  {
   "cell_type": "code",
   "execution_count": 1,
   "metadata": {
    "collapsed": true
   },
   "outputs": [],
   "source": [
    "import pandas"
   ]
  },
  {
   "cell_type": "code",
   "execution_count": 2,
   "metadata": {
    "collapsed": false
   },
   "outputs": [],
   "source": [
    "households = pandas.read_csv('data/household.csv',index_col='ID',na_values=['0'])\n",
    "members = pandas.read_csv('data/members.csv',index_col=False)"
   ]
  },
  {
   "cell_type": "markdown",
   "metadata": {},
   "source": [
    "#Total Households Surveyed\n",
    "\n",
    "##257"
   ]
  },
  {
   "cell_type": "code",
   "execution_count": 3,
   "metadata": {
    "collapsed": false
   },
   "outputs": [
    {
     "data": {
      "text/plain": [
       "257"
      ]
     },
     "execution_count": 3,
     "metadata": {},
     "output_type": "execute_result"
    }
   ],
   "source": [
    "len(households) #total surveyed"
   ]
  },
  {
   "cell_type": "markdown",
   "metadata": {},
   "source": [
    "#Duration of Stay in PPR"
   ]
  },
  {
   "cell_type": "code",
   "execution_count": 4,
   "metadata": {
    "collapsed": false
   },
   "outputs": [
    {
     "data": {
      "text/plain": [
       "9.0"
      ]
     },
     "execution_count": 4,
     "metadata": {},
     "output_type": "execute_result"
    }
   ],
   "source": [
    "households['Tinggal di PPR semenjak'].median()"
   ]
  },
  {
   "cell_type": "code",
   "execution_count": 5,
   "metadata": {
    "collapsed": false
   },
   "outputs": [
    {
     "data": {
      "text/plain": [
       "8.822314049586776"
      ]
     },
     "execution_count": 5,
     "metadata": {},
     "output_type": "execute_result"
    }
   ],
   "source": [
    "households['Tinggal di PPR semenjak'].mean()"
   ]
  },
  {
   "cell_type": "markdown",
   "metadata": {},
   "source": [
    "#Marital Status\n",
    "\n",
    "Single mothers: 73\n",
    "Single fathers: 8\n",
    "\n",
    "Note none head of households were not filtered out for this, so lots of single members which do not equal number of households"
   ]
  },
  {
   "cell_type": "code",
   "execution_count": 6,
   "metadata": {
    "collapsed": false
   },
   "outputs": [
    {
     "data": {
      "text/plain": [
       "Bujang          438\n",
       "Berkahwin       293\n",
       "Ibu tunggal      73\n",
       "Bapa tunggal      8\n",
       "Name: Taraf Perkahwinan, dtype: int64"
      ]
     },
     "execution_count": 6,
     "metadata": {},
     "output_type": "execute_result"
    }
   ],
   "source": [
    "members['Taraf Perkahwinan'].value_counts()"
   ]
  },
  {
   "cell_type": "markdown",
   "metadata": {},
   "source": [
    "#Households with OKU members\n",
    "\n",
    "Total: 20"
   ]
  },
  {
   "cell_type": "code",
   "execution_count": 7,
   "metadata": {
    "collapsed": false
   },
   "outputs": [],
   "source": [
    "members['oku_bool'] = members['Ahli dalam kategori OKU'].notnull()"
   ]
  },
  {
   "cell_type": "code",
   "execution_count": 8,
   "metadata": {
    "collapsed": false
   },
   "outputs": [],
   "source": [
    "oku_households = members[['ID','oku_bool']].to_dict(orient='records')"
   ]
  },
  {
   "cell_type": "code",
   "execution_count": 9,
   "metadata": {
    "collapsed": false
   },
   "outputs": [],
   "source": [
    "oku_household = {}\n",
    "for i in oku_households:\n",
    "      if not oku_household.has_key(i['ID']):\n",
    "        if i['oku_bool']==True:\n",
    "            oku_household[i['ID']]=True"
   ]
  },
  {
   "cell_type": "code",
   "execution_count": 10,
   "metadata": {
    "collapsed": false
   },
   "outputs": [
    {
     "data": {
      "text/plain": [
       "20"
      ]
     },
     "execution_count": 10,
     "metadata": {},
     "output_type": "execute_result"
    }
   ],
   "source": [
    "len(oku_household)"
   ]
  },
  {
   "cell_type": "markdown",
   "metadata": {},
   "source": [
    "#Vaccination\n",
    "\n",
    "##Households that know kids are not vaccinated: 58\n",
    "##Households that don't know kids vaccination status: 46"
   ]
  },
  {
   "cell_type": "code",
   "execution_count": 11,
   "metadata": {
    "collapsed": false
   },
   "outputs": [],
   "source": [
    "household_tidak_tahu_vaksinasi = households.loc[households['Adakah anda mempunyai kanak-kanak bawah umur 12 yang belum terima vaksinasi?'] == 'Tidak tahu']\n",
    "household_tidak_vaksinasi = households.loc[households['Adakah anda mempunyai kanak-kanak bawah umur 12 yang belum terima vaksinasi?'] == 'Ya']"
   ]
  },
  {
   "cell_type": "code",
   "execution_count": 12,
   "metadata": {
    "collapsed": false
   },
   "outputs": [
    {
     "data": {
      "text/plain": [
       "58"
      ]
     },
     "execution_count": 12,
     "metadata": {},
     "output_type": "execute_result"
    }
   ],
   "source": [
    "household_tidak_vaksinasi['Adakah anda mempunyai kanak-kanak bawah umur 12 yang belum terima vaksinasi?'].count()"
   ]
  },
  {
   "cell_type": "code",
   "execution_count": 13,
   "metadata": {
    "collapsed": false
   },
   "outputs": [
    {
     "data": {
      "text/plain": [
       "46"
      ]
     },
     "execution_count": 13,
     "metadata": {},
     "output_type": "execute_result"
    }
   ],
   "source": [
    "household_tidak_tahu_vaksinasi['Adakah anda mempunyai kanak-kanak bawah umur 12 yang belum terima vaksinasi?'].count()"
   ]
  },
  {
   "cell_type": "markdown",
   "metadata": {},
   "source": [
    "#Crime\n",
    "\n",
    "##Households that have been broken into: 21\n",
    "##Households that report drug activity in area: 206"
   ]
  },
  {
   "cell_type": "code",
   "execution_count": 14,
   "metadata": {
    "collapsed": false
   },
   "outputs": [
    {
     "data": {
      "text/plain": [
       "Tidak    233\n",
       "Ya        21\n",
       "Name: Adakah rumah anda pernah dipecah masuk?, dtype: int64"
      ]
     },
     "execution_count": 14,
     "metadata": {},
     "output_type": "execute_result"
    }
   ],
   "source": [
    "households['Adakah rumah anda pernah dipecah masuk?'].value_counts()"
   ]
  },
  {
   "cell_type": "code",
   "execution_count": 15,
   "metadata": {
    "collapsed": false
   },
   "outputs": [
    {
     "data": {
      "text/plain": [
       "Ya       206\n",
       "Tidak     46\n",
       "Name: Adakah terdapat aktiviti yang berkaitan dengan dadah di kawasan PPR?, dtype: int64"
      ]
     },
     "execution_count": 15,
     "metadata": {},
     "output_type": "execute_result"
    }
   ],
   "source": [
    "households['Adakah terdapat aktiviti yang berkaitan dengan dadah di kawasan PPR?'].value_counts()"
   ]
  },
  {
   "cell_type": "markdown",
   "metadata": {},
   "source": [
    "#Education\n",
    "##Households U17 that don't go to school: 4"
   ]
  },
  {
   "cell_type": "code",
   "execution_count": 16,
   "metadata": {
    "collapsed": false
   },
   "outputs": [],
   "source": [
    "kids_in_school = members[['ID','Kanak-kanak berumur 17 tahun ke bawah yang tidak bersekolah']].to_dict(orient='records')"
   ]
  },
  {
   "cell_type": "code",
   "execution_count": 24,
   "metadata": {
    "collapsed": false
   },
   "outputs": [
    {
     "name": "stdout",
     "output_type": "stream",
     "text": [
      "Ada\n",
      "Ada\n",
      "Ada\n",
      "Ada\n"
     ]
    }
   ],
   "source": [
    "not_in_school = []\n",
    "for i in kids_in_school:\n",
    "    if i['Kanak-kanak berumur 17 tahun ke bawah yang tidak bersekolah'] == \"Ada\":\n",
    "        print i['Kanak-kanak berumur 17 tahun ke bawah yang tidak bersekolah']"
   ]
  },
  {
   "cell_type": "code",
   "execution_count": null,
   "metadata": {
    "collapsed": false
   },
   "outputs": [],
   "source": [
    "youth_age_mask = (members['Umur'] > 15) & (members['Umur'] < 21) "
   ]
  },
  {
   "cell_type": "code",
   "execution_count": 38,
   "metadata": {
    "collapsed": false
   },
   "outputs": [],
   "source": [
    "youth_members = members[age_mask] #can't answer... not enough data"
   ]
  },
  {
   "cell_type": "markdown",
   "metadata": {},
   "source": [
    "#Health\n",
    "\n",
    "## Rat urine disease = No Household affected\n",
    "## Dengue Fever: 48 households"
   ]
  },
  {
   "cell_type": "code",
   "execution_count": 72,
   "metadata": {
    "collapsed": false
   },
   "outputs": [
    {
     "data": {
      "text/plain": [
       "Tidak    208\n",
       "Ya        48\n",
       "Name: Adakah anda mengenali mana-mana ahli keluarga yang jatuh sakit kerana denggi?, dtype: int64"
      ]
     },
     "execution_count": 72,
     "metadata": {},
     "output_type": "execute_result"
    }
   ],
   "source": [
    "households['Adakah anda mengenali mana-mana ahli keluarga yang jatuh sakit kerana denggi?'].value_counts()"
   ]
  },
  {
   "cell_type": "code",
   "execution_count": 133,
   "metadata": {
    "collapsed": false
   },
   "outputs": [
    {
     "data": {
      "text/plain": [
       "False    230\n",
       "True      27\n",
       "Name: Internet (unifi/maxis/lain-lain), dtype: int64"
      ]
     },
     "execution_count": 133,
     "metadata": {},
     "output_type": "execute_result"
    }
   ],
   "source": [
    "#Household has Internet\n",
    "households['Internet (unifi/maxis/lain-lain)'].notnull().value_counts() "
   ]
  },
  {
   "cell_type": "markdown",
   "metadata": {},
   "source": [
    "#Welfare\n",
    "\n",
    "## 51 households getting BR1M or other form of welfare"
   ]
  },
  {
   "cell_type": "code",
   "execution_count": 91,
   "metadata": {
    "collapsed": false
   },
   "outputs": [
    {
     "data": {
      "text/plain": [
       "51"
      ]
     },
     "execution_count": 91,
     "metadata": {},
     "output_type": "execute_result"
    }
   ],
   "source": [
    "#households recieving aid\n",
    "\n",
    "welfare_recipients_mask = \\\n",
    "(members['Adakah anda pernah menerima Bantuan Rakyat 1Malaysia (BR1M)?'] == 'Ya') & \\\n",
    "(members['Adakah anda menerima sebarang bantuan kewangan bulanan daripada mana-mana agensi berikut?'].notnull())\n",
    "\n",
    "welfare_recipients = members[welfare_recipients_mask]\n",
    "\n",
    "len(welfare_recipients['ID'].unique())\n",
    "\n",
    "#TODO generate DF of unique "
   ]
  },
  {
   "cell_type": "markdown",
   "metadata": {},
   "source": [
    "#Household racial breakdown\n",
    "\n",
    "    Melayu              147\n",
    "    India                40\n",
    "    Cina                 12\n",
    "    Bumiputera Sabah      4\n",
    "    Orang asal            1\n",
    "    siam                  1\n",
    "    \n",
    "#Household religious breakdown\n",
    "\n",
    "    Islam       154\n",
    "    Hindu        32\n",
    "    Buddha       12\n",
    "    Kristian      8\n",
    "\n",
    "#Household state of origin breakdown\n",
    "\n",
    "    Selangor - 10               55\n",
    "    Perak - 08                  52\n",
    "    Wilayah Persekutuan - 14    17\n",
    "    Kedah - 02                  13\n",
    "    Kelantan - 03               12\n",
    "    Negeri Sembilan - 05        12\n",
    "    Sabah - 12                  10\n",
    "    Johor - 01                   7\n",
    "    Lain-lain - 82               6\n",
    "    Melaka - 04                  5\n",
    "    Pahang - 06                  4\n",
    "    Pulau Pinang - 07            4\n",
    "    Terengganu - 11              4\n",
    "    Sarawak - 13                 3\n",
    "    Perlis - 09                  2\n"
   ]
  },
  {
   "cell_type": "code",
   "execution_count": 110,
   "metadata": {
    "collapsed": false
   },
   "outputs": [],
   "source": [
    "#household race breakdown\n",
    "#assuming first member is representative\n",
    "\n",
    "\n",
    "members_racial = members.where((pandas.notnull(members)), None)\n",
    "\n",
    "members_racial = members_racial.to_dict(orient='records')\n",
    "\n",
    "houses = {}\n",
    "for member in members_racial:\n",
    "    if member['Bangsa']:\n",
    "        if not houses.has_key(member['ID']):\n",
    "            houses[member['ID']] = [member['Bangsa']]\n",
    "        else:\n",
    "            houses[member['ID']].append(member['Bangsa'])"
   ]
  },
  {
   "cell_type": "code",
   "execution_count": 134,
   "metadata": {
    "collapsed": false
   },
   "outputs": [
    {
     "data": {
      "text/plain": [
       "Melayu              147\n",
       "India                40\n",
       "Cina                 12\n",
       "Bumiputera Sabah      4\n",
       "Orang asal            1\n",
       "siam                  1\n",
       "Name: race, dtype: int64"
      ]
     },
     "execution_count": 134,
     "metadata": {},
     "output_type": "execute_result"
    }
   ],
   "source": [
    "household_race = []\n",
    "for k,v in houses.iteritems():\n",
    "    household_race.append(v[0])\n",
    "    \n",
    "household_race = pandas.DataFrame(household_race,columns=['race'])\n",
    "\n",
    "#2 mixed households siam+cina and melayu+bumiputera sabah\n",
    "\n",
    "household_race['race'].value_counts()"
   ]
  },
  {
   "cell_type": "code",
   "execution_count": 152,
   "metadata": {
    "collapsed": false
   },
   "outputs": [
    {
     "data": {
      "text/plain": [
       "Islam       154\n",
       "Hindu        32\n",
       "Buddha       12\n",
       "Kristian      8\n",
       "dtype: int64"
      ]
     },
     "execution_count": 152,
     "metadata": {},
     "output_type": "execute_result"
    }
   ],
   "source": [
    "members_religion = members.where((pandas.notnull(members)), None)\n",
    "members_religion = members_religion.to_dict(orient='records')\n",
    "\n",
    "houses = {}\n",
    "for member in members_religion:\n",
    "    if member['Agama']:\n",
    "        if not houses.has_key(member['ID']):\n",
    "            houses[member['ID']] = member['Agama']\n",
    "        else:\n",
    "            pass\n",
    "\n",
    "pandas.Series(houses).value_counts()"
   ]
  },
  {
   "cell_type": "code",
   "execution_count": 156,
   "metadata": {
    "collapsed": false,
    "scrolled": true
   },
   "outputs": [
    {
     "data": {
      "text/plain": [
       "Selangor - 10               55\n",
       "Perak - 08                  52\n",
       "Wilayah Persekutuan - 14    17\n",
       "Kedah - 02                  13\n",
       "Kelantan - 03               12\n",
       "Negeri Sembilan - 05        12\n",
       "Sabah - 12                  10\n",
       "Johor - 01                   7\n",
       "Lain-lain - 82               6\n",
       "Melaka - 04                  5\n",
       "Pahang - 06                  4\n",
       "Pulau Pinang - 07            4\n",
       "Terengganu - 11              4\n",
       "Sarawak - 13                 3\n",
       "Perlis - 09                  2\n",
       "dtype: int64"
      ]
     },
     "execution_count": 156,
     "metadata": {},
     "output_type": "execute_result"
    }
   ],
   "source": [
    "members_state = members.where((pandas.notnull(members)), None)\n",
    "members_state = members_state.to_dict(orient='records')\n",
    "\n",
    "houses = {}\n",
    "for member in members_state:\n",
    "    if member['Negeri lahir']:\n",
    "        if not houses.has_key(member['ID']):\n",
    "            houses[member['ID']] = member['Negeri lahir']\n",
    "        else:\n",
    "            pass\n",
    "        \n",
    "pandas.Series(houses).value_counts()"
   ]
  },
  {
   "cell_type": "markdown",
   "metadata": {},
   "source": [
    "# Minors per Household (U18)\n",
    "\n",
    "## Mean 2.4\n",
    "## Median 2.0"
   ]
  },
  {
   "cell_type": "code",
   "execution_count": 176,
   "metadata": {
    "collapsed": false
   },
   "outputs": [
    {
     "name": "stdout",
     "output_type": "stream",
     "text": [
      "2.43790849673\n",
      "2.0\n"
     ]
    }
   ],
   "source": [
    "children_df = members[members['Umur'] < 18]\n",
    "\n",
    "children_per_household = children_df.groupby('ID').size()\n",
    "\n",
    "print children_per_household.mean()\n",
    "print children_per_household.median()"
   ]
  },
  {
   "cell_type": "markdown",
   "metadata": {},
   "source": [
    "# Residents per household\n",
    "## mean: 4.5\n",
    "## median: 4\n",
    "## max: 12"
   ]
  },
  {
   "cell_type": "code",
   "execution_count": 186,
   "metadata": {
    "collapsed": false
   },
   "outputs": [
    {
     "name": "stdout",
     "output_type": "stream",
     "text": [
      "4.5980861244\n",
      "4.0\n",
      "12\n"
     ]
    }
   ],
   "source": [
    "print members.groupby('ID').size().mean()\n",
    "print members.groupby('ID').size().median()\n",
    "print members.groupby('ID').size().max()"
   ]
  },
  {
   "cell_type": "markdown",
   "metadata": {},
   "source": [
    "# Household Income (MYR)\n",
    "\n",
    "    Mean:   1814.5\n",
    "    Median: 1500\n",
    "    Max:    6500\n",
    "    Min:     400"
   ]
  },
  {
   "cell_type": "code",
   "execution_count": 210,
   "metadata": {
    "collapsed": false
   },
   "outputs": [
    {
     "name": "stdout",
     "output_type": "stream",
     "text": [
      "1814.57635468\n",
      "1500.0\n",
      "6600.0\n",
      "400.0\n"
     ]
    }
   ],
   "source": [
    "#household income\n",
    "\n",
    "household_income  = members.groupby('ID')['Pendapatan'].sum()\n",
    "\n",
    "print household_income.mean()\n",
    "print household_income.median()\n",
    "print household_income.max()\n",
    "print household_income.min()"
   ]
  },
  {
   "cell_type": "markdown",
   "metadata": {},
   "source": [
    "#Household Expenditure (MYR)\n",
    "\n",
    "Mean: 1546.13\n",
    "Median: 1400"
   ]
  },
  {
   "cell_type": "code",
   "execution_count": 211,
   "metadata": {
    "collapsed": false
   },
   "outputs": [],
   "source": [
    "members['total_expenditure'] = members['Perbelanjaan Peribadi'] + members['Penyumbang kepada isi rumah']"
   ]
  },
  {
   "cell_type": "code",
   "execution_count": 223,
   "metadata": {
    "collapsed": false
   },
   "outputs": [
    {
     "name": "stdout",
     "output_type": "stream",
     "text": [
      "1546.13095238\n",
      "1400.0\n"
     ]
    }
   ],
   "source": [
    "household_expenditure = members.groupby('ID')['total_expenditure'].sum()\n",
    "print household_expenditure.mean()\n",
    "print household_expenditure.median()"
   ]
  },
  {
   "cell_type": "markdown",
   "metadata": {},
   "source": [
    "#Household Head Age\n",
    "\n",
    "Mean: 65yro\n",
    "Median: 46yro"
   ]
  },
  {
   "cell_type": "code",
   "execution_count": 248,
   "metadata": {
    "collapsed": false
   },
   "outputs": [
    {
     "name": "stdout",
     "output_type": "stream",
     "text": [
      "64.9215686275\n",
      "46.0\n"
     ]
    }
   ],
   "source": [
    "#household head\n",
    "\n",
    "members_household_heads = members.where((pandas.notnull(members)), None)\n",
    "\n",
    "members_household_heads = members_household_heads.to_dict(orient='records')\n",
    "\n",
    "houses = {}\n",
    "for member in members_household_heads:\n",
    "    if member['Umur']:\n",
    "        if not houses.has_key(member['ID']):\n",
    "            houses[member['ID']] = [member['Umur']]\n",
    "        else:\n",
    "            houses[member['ID']].append(member['Umur'])\n",
    "\n",
    "household_head_age = []\n",
    "for k,v in houses.iteritems():\n",
    "    household_head_age.append(v[0])\n",
    "    \n",
    "print pandas.Series(household_head_age).mean()\n",
    "print pandas.Series(household_head_age).median()"
   ]
  },
  {
   "cell_type": "markdown",
   "metadata": {},
   "source": [
    "#Jobs"
   ]
  },
  {
   "cell_type": "code",
   "execution_count": 273,
   "metadata": {
    "collapsed": false,
    "scrolled": true
   },
   "outputs": [
    {
     "data": {
      "text/plain": [
       "pemandu lori                      23\n",
       "cleaner                           13\n",
       "pengawal keselamatan              13\n",
       "kerja kontrak                      9\n",
       "kilang                             7\n",
       "pemandu teksi                      7\n",
       "sekuriti                           5\n",
       "berniaga                           5\n",
       "kerani                             4\n",
       "pengasuh                           4\n",
       "pekerja kilang                     4\n",
       "promoter                           3\n",
       "juruwang                           3\n",
       "surirumah                          3\n",
       "pomen                              2\n",
       "kelindan lori                      2\n",
       "penghantar surat                   2\n",
       "jurujual                           2\n",
       "swasta                             2\n",
       "despatch                           2\n",
       "hotel                              2\n",
       "mekanik                            2\n",
       "pembantu jualan                    2\n",
       "technician                         2\n",
       "pencen askar                       1\n",
       "welder                             1\n",
       "driver                             1\n",
       "juru jual                          1\n",
       "teknisen                           1\n",
       "pembantu datin                     1\n",
       "tukang kebun                       1\n",
       "bengkel motor                      1\n",
       "tukang masak                       1\n",
       "purchasing clerk                   1\n",
       "pencen                             1\n",
       "pemandu kanak-kanak ke sekolah     1\n",
       "servis fresh tesco                 1\n",
       "bekerja sendiri                    1\n",
       "pembantu jurujual                  1\n",
       "pepekerja kilang                   1\n",
       "chef                               1\n",
       "kedai runcit                       1\n",
       "part time berniaga                 1\n",
       "berniaga rela                      1\n",
       "store keeper                       1\n",
       "renovate rumah                     1\n",
       "servis computer                    1\n",
       "kedai serbanika                    1\n",
       "massage @ tukang urut              1\n",
       "buruh kasar                        1\n",
       "supervisor                         1\n",
       "bakeri shop                        1\n",
       "juru teknik                        1\n",
       "pengawal peribadi                  1\n",
       "SRP                                1\n",
       "opd jobs                           1\n",
       "59                                 1\n",
       "kilang cetak                       1\n",
       "kerja sambilan                     1\n",
       "guru                               1\n",
       "pembantu tadbir                    1\n",
       "pemotong daging frozen             1\n",
       "farmasi                            1\n",
       "customer service                   1\n",
       "pelayan kedai makan                1\n",
       "petani                             1\n",
       "recovery officer                   1\n",
       "berniaga (jual burger)             1\n",
       "part time tukang masak             1\n",
       "telekom malaysia                   1\n",
       "pembantu kedai                     1\n",
       "majlis daerah h.selangor           1\n",
       "meniaga di pasar                   1\n",
       "pemandu                            1\n",
       "pembantu rumah                     1\n",
       "peniaga                            1\n",
       "pasaraya                           1\n",
       "sukarelawan menderma               1\n",
       "tukang urut                        1\n",
       "mekanik store                      1\n",
       "teknikal exe                       1\n",
       "kerani pejabat                     1\n",
       "poslaju                            1\n",
       "penjawat awam JPN                  1\n",
       "dtype: int64"
      ]
     },
     "execution_count": 273,
     "metadata": {},
     "output_type": "execute_result"
    }
   ],
   "source": [
    "#jobs\n",
    "\n",
    "houses = {}\n",
    "for member in members_household_heads:\n",
    "    if member['Jenis pekerjaan']:\n",
    "        if not houses.has_key(member['ID']):\n",
    "            houses[member['ID']] = [member['Jenis pekerjaan']]\n",
    "        else:\n",
    "            houses[member['ID']].append(member['Jenis pekerjaan'])\n",
    "            \n",
    "pekerjaan_ketua_rumah = []\n",
    "for k,v in houses.iteritems():\n",
    "    pekerjaan_ketua_rumah.append(v[0])\n",
    "\n",
    "    \n",
    "pekerjaan_ketua_rumah = [ x.replace('driver lorry','pemandu lori') for x in pekerjaan_ketua_rumah ]\n",
    "pekerjaan_ketua_rumah = [ x.replace('driver van','pemandu lori') for x in pekerjaan_ketua_rumah ]\n",
    "pekerjaan_ketua_rumah = [ x.replace('pemandu van','pemandu lori') for x in pekerjaan_ketua_rumah ]\n",
    "pekerjaan_ketua_rumah = [ x.replace('kontrak','kerja kontrak') for x in pekerjaan_ketua_rumah ]\n",
    "pekerjaan_ketua_rumah = [ x.replace('kerja kerja kontrak','kerja kontrak') for x in pekerjaan_ketua_rumah ]\n",
    "pekerjaan_ketua_rumah = [ x.replace('driver taxi','pemandu teksi') for x in pekerjaan_ketua_rumah ]\n",
    "pekerjaan_ketua_rumah = [ x.replace('pemandu teksi part time','pemandu teksi') for x in pekerjaan_ketua_rumah ]\n",
    "pekerjaan_ketua_rumah = [ x.replace('driver teksi','pemandu teksi') for x in pekerjaan_ketua_rumah ]\n",
    "pekerjaan_ketua_rumah = [ x.replace('jaga budak','pengasuh') for x in pekerjaan_ketua_rumah ]\n",
    "pekerjaan_ketua_rumah = [ x.replace('pengasuh kanak-kanak','pengasuh') for x in pekerjaan_ketua_rumah ]\n",
    "pekerjaan_ketua_rumah = [ x.replace('kerja kilang','pekerja kilang') for x in pekerjaan_ketua_rumah ]\n",
    "pekerjaan_ketua_rumah = [ x.replace('operator kilang','pekerja kilang') for x in pekerjaan_ketua_rumah ]\n",
    "pekerjaan_ketua_rumah = [ x.replace('security','pengawal keselamatan') for x in pekerjaan_ketua_rumah ]\n",
    "pekerjaan_ketua_rumah = [ x.replace('securiti','pengawal keselamatan') for x in pekerjaan_ketua_rumah ]\n",
    "pekerjaan_ketua_rumah = [ x.replace('pengawal keselamatan guard','pengawal keselamatan') for x in pekerjaan_ketua_rumah ]\n",
    "pekerjaan_ketua_rumah = [ x.replace('cashier speedmart','juruwang') for x in pekerjaan_ketua_rumah ]\n",
    "pekerjaan_ketua_rumah = [ x.replace('kedai 7Eleven','juruwang') for x in pekerjaan_ketua_rumah ]\n",
    "pekerjaan_ketua_rumah = [ x.replace('sales promoter','promoter') for x in pekerjaan_ketua_rumah ]\n",
    "\n",
    "pandas.set_option('display.max_rows',len(pekerjaan_ketua_rumah))\n",
    "\n",
    "pandas.Series(pekerjaan_ketua_rumah).value_counts()\n"
   ]
  },
  {
   "cell_type": "markdown",
   "metadata": {},
   "source": [
    "#Education Level of Household Heads"
   ]
  },
  {
   "cell_type": "code",
   "execution_count": 291,
   "metadata": {
    "collapsed": false
   },
   "outputs": [
    {
     "data": {
      "text/plain": [
       "SPM                                                           68\n",
       "SRP                                                           24\n",
       "PMR                                                           15\n",
       "DARJAH 6                                                      10\n",
       "STPM                                                           9\n",
       "DIPLOMA                                                        8\n",
       "UPSR                                                           5\n",
       "SEKOLAH MESEKOLAH RENDAHESEKOLAH RENDAHGAH                     4\n",
       "DEGREE                                                         3\n",
       "TISEKOLAH RENDAHGKATASEKOLAH RENDAH 2                          3\n",
       "FORM 4                                                         3\n",
       "DARJAH 4                                                       2\n",
       "TISEKOLAH RENDAHGKATASEKOLAH RENDAH 5                          2\n",
       "SEKOLAH RESEKOLAH RENDAH                                       2\n",
       "FORM 1                                                         2\n",
       "4                                                              2\n",
       "DARJAH 2                                                       2\n",
       "DARJAH 3                                                       2\n",
       "TISEKOLAH RENDAHGKATASEKOLAH RENDAH                            1\n",
       "SEK MESEKOLAH RENDAH TISEKOLAH RENDAHGKATASEKOLAH RENDAH 2     1\n",
       "SEKOLAH MENENGAH                                               1\n",
       "DARJAH 5                                                       1\n",
       "2                                                              1\n",
       "SEK RESEKOLAH RENDAH                                           1\n",
       "S. MESEKOLAH RENDAH                                            1\n",
       "300                                                            1\n",
       "TISEKOLAH RENDAHGKATASEKOLAH RENDAH 1                          1\n",
       "SEK. RESEKOLAH RENDAH.                                         1\n",
       "1                                                              1\n",
       "dtype: int64"
      ]
     },
     "execution_count": 291,
     "metadata": {},
     "output_type": "execute_result"
    }
   ],
   "source": [
    "#education level of household heads\n",
    "\n",
    "houses = {}\n",
    "for member in members_household_heads:\n",
    "    if member['Tahap pendidikan']:\n",
    "        if not houses.has_key(member['ID']):\n",
    "            houses[member['ID']] = [member['Tahap pendidikan']]\n",
    "        else:\n",
    "            houses[member['ID']].append(member['Tahap pendidikan'])\n",
    "            \n",
    "pendidikan_ketua_rumah = []\n",
    "for k,v in houses.iteritems():\n",
    "    pendidikan_ketua_rumah.append(v[0].upper())\n",
    "    \n",
    "pendidikan_ketua_rumah = [ x.replace('FORM 3','SEKOLAH MENENGAH') for x in pendidikan_ketua_rumah ]    \n",
    "pendidikan_ketua_rumah = [ x.replace('N','SEKOLAH RENDAH') for x in pendidikan_ketua_rumah ]    \n",
    "pendidikan_ketua_rumah = [ x.replace('SEK REN','SEKOLAH RENDAH') for x in pendidikan_ketua_rumah ]    \n",
    "pendidikan_ketua_rumah = [ x.replace('SEKOLAH RENDAHDAH','SEKOLAH RENDAH') for x in pendidikan_ketua_rumah ]    \n",
    "pendidikan_ketua_rumah = [ x.replace('FORM 2','SEKOLAH MENENGAH') for x in pendidikan_ketua_rumah ]    \n",
    "pendidikan_ketua_rumah = [ x.replace('S. MEN','SEKOLAH MENENGAH') for x in pendidikan_ketua_rumah ]    \n",
    "pendidikan_ketua_rumah = [ x.replace('SEK MEN TINGKATAN','SEKOLAH MENGENAH') for x in pendidikan_ketua_rumah ]    \n",
    "pendidikan_ketua_rumah = [ x.replace('TINGKATAN 2 2','SEKOLAH MENENGAH') for x in pendidikan_ketua_rumah ]    \n",
    "\n",
    "pandas.Series(pendidikan_ketua_rumah).value_counts()"
   ]
  },
  {
   "cell_type": "code",
   "execution_count": null,
   "metadata": {
    "collapsed": true
   },
   "outputs": [],
   "source": []
  }
 ],
 "metadata": {
  "kernelspec": {
   "display_name": "Python 2",
   "language": "python",
   "name": "python2"
  },
  "language_info": {
   "codemirror_mode": {
    "name": "ipython",
    "version": 2
   },
   "file_extension": ".py",
   "mimetype": "text/x-python",
   "name": "python",
   "nbconvert_exporter": "python",
   "pygments_lexer": "ipython2",
   "version": "2.7.12"
  }
 },
 "nbformat": 4,
 "nbformat_minor": 0
}
