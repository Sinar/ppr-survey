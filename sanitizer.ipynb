{
 "cells": [
  {
   "cell_type": "code",
   "execution_count": 116,
   "metadata": {
    "collapsed": true
   },
   "outputs": [],
   "source": [
    "import pandas,hashlib,random,numpy"
   ]
  },
  {
   "cell_type": "code",
   "execution_count": 117,
   "metadata": {
    "collapsed": true
   },
   "outputs": [],
   "source": [
    "#household members\n",
    "members_df = pandas.DataFrame.from_csv('data/members-private.csv',index_col=False)"
   ]
  },
  {
   "cell_type": "code",
   "execution_count": 118,
   "metadata": {
    "collapsed": false
   },
   "outputs": [],
   "source": [
    "del members_df['Umur.1'] #unused column"
   ]
  },
  {
   "cell_type": "code",
   "execution_count": 119,
   "metadata": {
    "collapsed": false
   },
   "outputs": [],
   "source": [
    "#replace house number with hash instead\n",
    "#can merge with household dataset\n",
    "#those with access to household ID can do targeted intervention from public analysis\n",
    "members_df['ID'] = members_df['ID'].apply(lambda x: hashlib.sha256(x).hexdigest())"
   ]
  },
  {
   "cell_type": "code",
   "execution_count": 120,
   "metadata": {
    "collapsed": false
   },
   "outputs": [],
   "source": [
    "members_dict = members_df.to_dict(orient='records')"
   ]
  },
  {
   "cell_type": "code",
   "execution_count": 121,
   "metadata": {
    "collapsed": false
   },
   "outputs": [],
   "source": [
    "#original data, first member in survey is household head\n",
    "#we set this before shuffling, so we can get stats on heads of households later\n",
    "\n",
    "household_head = {}\n",
    "for member in members_dict:\n",
    "    if not household_head.has_key(member['ID']):\n",
    "        household_head[member['ID']] = True\n",
    "        member['household_head'] = True\n",
    "    else:\n",
    "        pass"
   ]
  },
  {
   "cell_type": "code",
   "execution_count": 122,
   "metadata": {
    "collapsed": false
   },
   "outputs": [],
   "source": [
    "random.shuffle(members_dict)"
   ]
  },
  {
   "cell_type": "code",
   "execution_count": 123,
   "metadata": {
    "collapsed": false
   },
   "outputs": [],
   "source": [
    "members_df = members_df.from_dict(members_dict)"
   ]
  },
  {
   "cell_type": "code",
   "execution_count": 124,
   "metadata": {
    "collapsed": false
   },
   "outputs": [],
   "source": [
    "#make the order of the columns same as the original sheet\n",
    "members_df = members_df[['Timestamp',\n",
    "                         'ID',\n",
    "                         'household_head',\n",
    "                         'Nyatakan hubungan dengan ketua rumah',\n",
    "                         'Jantina',\n",
    "                         'Umur',\n",
    "                         'Taraf Perkahwinan',\n",
    "                         'Taraf warganegara',\n",
    "                         'Bangsa',\n",
    "                         'Agama',\n",
    "                         'Negeri lahir',\n",
    "                         'Tempoh bermastautin di Selangor',\n",
    "                         'Adakah anda bekerja?',\n",
    "                         'Jika tidak, nyatakan tempoh pengangguran',\n",
    "                         'Jika tempoh pengangguran kurang daripada setahun',\n",
    "                         'Jenis pekerjaan',\n",
    "                         'Sektor pekerjaan',\n",
    "                         'Pendapatan',\n",
    "                         'Perbelanjaan Peribadi',\n",
    "                         'Penyumbang kepada isi rumah',\n",
    "                         'Tahap pendidikan',\n",
    "                         'Kanak-kanak berumur 17 tahun ke bawah yang tidak bersekolah',\n",
    "                         'Remaja berusia 15 sehingga 21 yang tidak bersekolah & bekerja',\n",
    "                         '2M - membaca & menulis',\n",
    "                         'Tahap kelulusan pendidikan tertinggi, nyatakan:',\n",
    "                         'Memerlukan rawatan jangka panjang?',\n",
    "                         'Ahli dalam kategori OKU',\n",
    "                         'Adakah anda menerima sebarang bantuan kewangan bulanan daripada mana-mana agensi berikut?',\n",
    "                         'Sekiranya anda menerima sebarang bantuan kewangan bulanan daripada mana-mana agensi di atas, sila nyatakan jumlah:',\n",
    "                         'Adakah anda pernah menerima Bantuan Rakyat 1Malaysia (BR1M)?',\n",
    "                         'Telefon',\n",
    "                         'Jumlah tanggungan bil telefon, sila nyatakan:',\n",
    "                         ]]"
   ]
  },
  {
   "cell_type": "code",
   "execution_count": 125,
   "metadata": {
    "collapsed": false
   },
   "outputs": [],
   "source": [
    "members_df.to_csv('data/members-public.csv')"
   ]
  },
  {
   "cell_type": "code",
   "execution_count": 126,
   "metadata": {
    "collapsed": true
   },
   "outputs": [],
   "source": [
    "#households\n",
    "households_df = pandas.DataFrame.from_csv('data/household-private.csv',index_col=False)"
   ]
  },
  {
   "cell_type": "code",
   "execution_count": 127,
   "metadata": {
    "collapsed": false
   },
   "outputs": [],
   "source": [
    "del households_df['Nama']\n",
    "del households_df['NRIC']\n",
    "del households_df['Nombor telefon']\n",
    "del households_df['Nama penyewa dengan Perumahan dan Hartanah Selangor Sdn Bhd (PHSSB) jika berlainan dari nama ketua isi rumah']\n",
    "del households_df['Nama enumerator']"
   ]
  },
  {
   "cell_type": "code",
   "execution_count": 128,
   "metadata": {
    "collapsed": false
   },
   "outputs": [],
   "source": [
    "#replace house number with hash instead\n",
    "households_df['ID'] = households_df['ID'].apply(lambda x: hashlib.sha256(x).hexdigest())"
   ]
  },
  {
   "cell_type": "code",
   "execution_count": 129,
   "metadata": {
    "collapsed": false
   },
   "outputs": [],
   "source": [
    "#since order does not have any important info like members, we can simply randomly \n",
    "#change the index\n",
    "#One way of doing it: https://codedump.io/share/jGTNLQgpwrGj/1/shuffle-dataframe-rows\n",
    "\n",
    "households_df = households_df.iloc[numpy.random.permutation(len(households_df))]\n",
    "households_df = households_df.reset_index(drop=True)"
   ]
  },
  {
   "cell_type": "code",
   "execution_count": 130,
   "metadata": {
    "collapsed": false
   },
   "outputs": [],
   "source": [
    "households_df.to_csv('data/household-public.csv')"
   ]
  }
 ],
 "metadata": {
  "kernelspec": {
   "display_name": "Python 2",
   "language": "python",
   "name": "python2"
  },
  "language_info": {
   "codemirror_mode": {
    "name": "ipython",
    "version": 2
   },
   "file_extension": ".py",
   "mimetype": "text/x-python",
   "name": "python",
   "nbconvert_exporter": "python",
   "pygments_lexer": "ipython2",
   "version": "2.7.12"
  }
 },
 "nbformat": 4,
 "nbformat_minor": 0
}
